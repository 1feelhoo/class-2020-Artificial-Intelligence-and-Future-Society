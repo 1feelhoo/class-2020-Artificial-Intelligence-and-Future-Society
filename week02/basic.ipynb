{
 "cells": [
  {
   "cell_type": "markdown",
   "metadata": {},
   "source": [
    "# 2주차 실습 노트북\n",
    "\n",
    "아래 셀을 각각 하나씩 실행해보며 결과를 확인해보시기 바랍니다."
   ]
  },
  {
   "cell_type": "markdown",
   "metadata": {},
   "source": [
    "## 셀 종류"
   ]
  },
  {
   "cell_type": "code",
   "execution_count": null,
   "metadata": {},
   "outputs": [],
   "source": [
    "# 코드 셀\n",
    "# 코드를 입력할 수 있고, 출력 결과를 셀 아래에 나타냄\n",
    "print(\"Hello, World!\")"
   ]
  },
  {
   "cell_type": "markdown",
   "metadata": {},
   "source": [
    "### 마크다운 셀\n",
    "마크다운 형식의 글을 쓸 수 있음"
   ]
  },
  {
   "cell_type": "markdown",
   "metadata": {},
   "source": [
    "## 변수"
   ]
  },
  {
   "cell_type": "markdown",
   "metadata": {},
   "source": [
    "* 영문자나 언더라인으로 시작\n",
    "* 숫자로 시작할 수 없음\n",
    "* 변수는 영문자나 숫자 또는 언더라인으로만 이루어짐\n",
    "* 변수는 대소문자를 구분함\n",
    "* 예약어나 내장함수를 사용하지 않도록 주의"
   ]
  },
  {
   "cell_type": "code",
   "execution_count": null,
   "metadata": {},
   "outputs": [],
   "source": [
    "# 올바른 변수명\n",
    "myvariable = \"Hanyang\"\n",
    "my_variable = \"Hanyang\"\n",
    "_my_variable = \"Hanyang\"\n",
    "myVariable = \"Hanyang\"\n",
    "MYVARIABLE = \"Hanyang\"\n",
    "myvariable2 = \"Hanyang\""
   ]
  },
  {
   "cell_type": "code",
   "execution_count": null,
   "metadata": {},
   "outputs": [],
   "source": [
    "# 숫자로 시작할 수 없음\n",
    "2myvariable = \"Hanyang\""
   ]
  },
  {
   "cell_type": "code",
   "execution_count": null,
   "metadata": {},
   "outputs": [],
   "source": [
    "# 변수는 영문자나 숫자 또는 언더라인으로만 이루어짐: - 는 사용 불가\n",
    "my-variable = \"Hanyang\""
   ]
  },
  {
   "cell_type": "code",
   "execution_count": null,
   "metadata": {},
   "outputs": [],
   "source": [
    "# 변수는 영문자나 숫자 또는 언더라인으로만 이루어짐: 공백은 사용 불가\n",
    "my variable = \"Hanyang\""
   ]
  },
  {
   "cell_type": "code",
   "execution_count": null,
   "metadata": {},
   "outputs": [],
   "source": [
    "# 변수는 대소문자를 구분함\n",
    "a = 10\n",
    "A = 100\n",
    "print(a)\n",
    "print(A)"
   ]
  },
  {
   "cell_type": "markdown",
   "metadata": {},
   "source": [
    "## 숫자형\n",
    "* 정수 : int"
   ]
  },
  {
   "cell_type": "code",
   "execution_count": null,
   "metadata": {},
   "outputs": [],
   "source": [
    "123\n",
    "-123\n",
    "0"
   ]
  },
  {
   "cell_type": "markdown",
   "metadata": {},
   "source": [
    "* 실수 : float\n",
    " * 소수점 기호를 붙여서 나타냄\n",
    " * e를 써서 10의 N제곱을 나타냄"
   ]
  },
  {
   "cell_type": "code",
   "execution_count": null,
   "metadata": {},
   "outputs": [],
   "source": [
    "123.456\n",
    "-123.456\n",
    "1e-10\n",
    "3.5e5"
   ]
  },
  {
   "cell_type": "markdown",
   "metadata": {},
   "source": [
    "* 8진수\n",
    " * int로 저장됨\n",
    " * 0o(숫자 0, 소문자 o) 또는 0O(숫자 0, 대문자 o)로 시작\n",
    "* 16진수\n",
    " * int로 저장\n",
    " * 0x로 시작(숫자 0, 영문 x)"
   ]
  },
  {
   "cell_type": "markdown",
   "metadata": {},
   "source": [
    "## 문자열\n",
    " * str\n",
    " * 문자로 구성된 배열"
   ]
  },
  {
   "cell_type": "code",
   "execution_count": null,
   "metadata": {},
   "outputs": [],
   "source": [
    "'Hello'"
   ]
  },
  {
   "cell_type": "code",
   "execution_count": null,
   "metadata": {},
   "outputs": [],
   "source": [
    "\"Hello\""
   ]
  },
  {
   "cell_type": "code",
   "execution_count": null,
   "metadata": {},
   "outputs": [],
   "source": [
    "'Hello\""
   ]
  },
  {
   "cell_type": "code",
   "execution_count": null,
   "metadata": {},
   "outputs": [],
   "source": [
    "\"Hello'"
   ]
  },
  {
   "cell_type": "code",
   "execution_count": null,
   "metadata": {},
   "outputs": [],
   "source": [
    "a = \"\"\"Hello,\n",
    "World!\"\"\"\n",
    "print(a)"
   ]
  },
  {
   "cell_type": "code",
   "execution_count": null,
   "metadata": {},
   "outputs": [],
   "source": [
    "a = '''Hi,\n",
    "there!'''\n",
    "print(a)"
   ]
  },
  {
   "cell_type": "markdown",
   "metadata": {},
   "source": [
    "## 자료형을 알아보려면?\n",
    "type() 함수 이용"
   ]
  },
  {
   "cell_type": "code",
   "execution_count": null,
   "metadata": {},
   "outputs": [],
   "source": [
    "type(1)"
   ]
  },
  {
   "cell_type": "code",
   "execution_count": null,
   "metadata": {},
   "outputs": [],
   "source": [
    "a = 1\n",
    "type(a)"
   ]
  },
  {
   "cell_type": "code",
   "execution_count": null,
   "metadata": {},
   "outputs": [],
   "source": [
    "a = 1.0\n",
    "type(a)"
   ]
  },
  {
   "cell_type": "code",
   "execution_count": null,
   "metadata": {},
   "outputs": [],
   "source": [
    "a = \"Hello\"\n",
    "type(a)"
   ]
  },
  {
   "cell_type": "markdown",
   "metadata": {},
   "source": [
    "## 자료형 변환"
   ]
  },
  {
   "cell_type": "code",
   "execution_count": null,
   "metadata": {},
   "outputs": [],
   "source": [
    "y = int(2.8)\n",
    "print(y)\n",
    "print(type(y))"
   ]
  },
  {
   "cell_type": "code",
   "execution_count": null,
   "metadata": {},
   "outputs": [],
   "source": [
    "z = float(\"4.2\")\n",
    "print(z)\n",
    "print(type(z))"
   ]
  },
  {
   "cell_type": "code",
   "execution_count": null,
   "metadata": {},
   "outputs": [],
   "source": [
    "z = str(3.0)\n",
    "print(z)\n",
    "print(type(z))"
   ]
  },
  {
   "cell_type": "markdown",
   "metadata": {},
   "source": [
    "## 출력\n",
    "* 집어넣은 변수를 문자열로 변환하여 출력"
   ]
  },
  {
   "cell_type": "code",
   "execution_count": null,
   "metadata": {},
   "outputs": [],
   "source": [
    "a = 10 # 정수\n",
    "print(a)"
   ]
  },
  {
   "cell_type": "markdown",
   "metadata": {},
   "source": [
    "* 여러 변수를 집어넣으면 띄어쓰기(' ')로 구분하여 출력"
   ]
  },
  {
   "cell_type": "code",
   "execution_count": null,
   "metadata": {},
   "outputs": [],
   "source": [
    "a = 10\n",
    "b = 20\n",
    "print(a, b)"
   ]
  },
  {
   "cell_type": "markdown",
   "metadata": {},
   "source": [
    "* 출력 후 다음 라인으로 이동함"
   ]
  },
  {
   "cell_type": "code",
   "execution_count": null,
   "metadata": {},
   "outputs": [],
   "source": [
    "print('Hi!')\n",
    "print('Next line.')"
   ]
  },
  {
   "cell_type": "markdown",
   "metadata": {},
   "source": [
    "* 다음 라인으로 자동으로 이동하지 않기 위해서 end 인자에 문자 대입"
   ]
  },
  {
   "cell_type": "code",
   "execution_count": null,
   "metadata": {},
   "outputs": [],
   "source": [
    "print('Hello',end='')\n",
    "print('World!')\n",
    "\n",
    "print('Hello',end=', ')\n",
    "print('World!')"
   ]
  },
  {
   "cell_type": "code",
   "execution_count": null,
   "metadata": {},
   "outputs": [],
   "source": [
    "# 포맷 문자열 리터럴(f-문자열 방법)\n",
    "name = 'Olaf'\n",
    "print(f'My cat is named {name}.')"
   ]
  },
  {
   "cell_type": "code",
   "execution_count": null,
   "metadata": {},
   "outputs": [],
   "source": [
    "# 문자열 format() 방법\n",
    "print(\"Hey {}. Do you have {} won?\".format(\"Tom\", 1000))"
   ]
  },
  {
   "cell_type": "code",
   "execution_count": null,
   "metadata": {},
   "outputs": [],
   "source": [
    "# 수동 문자열 포매팅\n",
    "name = 'Olaf'\n",
    "print('My cat',name,'eats',3,'times a day.')"
   ]
  },
  {
   "cell_type": "code",
   "execution_count": null,
   "metadata": {},
   "outputs": [],
   "source": [
    "# 예전의 문자열 포매팅\n",
    "pi = 3.141592\n",
    "print(\"파이값은 약 %5.3f이다.\" % pi)"
   ]
  },
  {
   "cell_type": "markdown",
   "metadata": {},
   "source": [
    "## 포맷 문자열 리터럴 방법\n",
    "* 사용이 직관적이고 유연하여 가장 추천하는 방법\n",
    "* 다양한 데이터형을 혼합하여 순차적으로 사용 가능"
   ]
  },
  {
   "cell_type": "code",
   "execution_count": null,
   "metadata": {},
   "outputs": [],
   "source": [
    "n = 'Olaf' # 문자열\n",
    "b = 2009 # 정수\n",
    "w = 3.259 # 실수\n",
    "print(f'My cat is {n}. He was born in {b}. He is {w} kg.')\n",
    "print(f'My cat is {n:>10s}. He was born in {b:010}. He is {w:.2f} kg.')"
   ]
  },
  {
   "cell_type": "markdown",
   "metadata": {},
   "source": [
    "## 입력"
   ]
  },
  {
   "cell_type": "code",
   "execution_count": null,
   "metadata": {},
   "outputs": [],
   "source": [
    "s = input(\"이름을 입력해주세요. --> \")\n",
    "print(\"안녕하세요\",s)"
   ]
  },
  {
   "cell_type": "markdown",
   "metadata": {},
   "source": [
    "* 다른 데이터형으로 변환하려면 변환하고자 하는 데이터형으로 감싸주기"
   ]
  },
  {
   "cell_type": "code",
   "execution_count": null,
   "metadata": {},
   "outputs": [],
   "source": [
    "a = int(input(\"첫번째 정수를 입력해주세요. --> \"))\n",
    "b = int(input(\"두번째 정수를 입력해주세요. --> \"))\n",
    "summation = a + b\n",
    "print(f'{a} + {b} = {summation}')"
   ]
  },
  {
   "cell_type": "markdown",
   "metadata": {},
   "source": [
    "## 파일 입출력 - 'x'\n",
    "* 새로운 파일 만들기\n",
    " * 'x' 모드로 파일을 열 때는 해당 위치에 파일이 없어야 함\n",
    " * 파일객체명.write()\n",
    "   * 문자열을 인자로 넘기면, 파일에 써줌"
   ]
  },
  {
   "cell_type": "code",
   "execution_count": null,
   "metadata": {},
   "outputs": [],
   "source": [
    "myfile = open('../data/hello.txt','x')\n",
    "myfile.write('Hello, File!')\n",
    "myfile.close()"
   ]
  },
  {
   "cell_type": "markdown",
   "metadata": {},
   "source": [
    "## with ~ as 로 파일 자동 닫기\n",
    "* with 문 쓰는 습관을 들일 것"
   ]
  },
  {
   "cell_type": "code",
   "execution_count": null,
   "metadata": {},
   "outputs": [],
   "source": [
    "myfile = open('../data/hello.txt','w')\n",
    "myfile.write('Hello, Myfile!')\n",
    "myfile.close()"
   ]
  },
  {
   "cell_type": "code",
   "execution_count": null,
   "metadata": {},
   "outputs": [],
   "source": [
    "with open('../data/hello.txt','w') as myfile:\n",
    "    myfile.write('Hello, Myfile!')"
   ]
  },
  {
   "cell_type": "markdown",
   "metadata": {},
   "source": [
    "## 파일 입출력 - 'w'\n",
    "* 기존에 파일이 존재하면 지우고 새로 씀"
   ]
  },
  {
   "cell_type": "code",
   "execution_count": null,
   "metadata": {},
   "outputs": [],
   "source": [
    "with open('../data/hello.txt','w') as myfile:\n",
    "    myfile.write('Hello, Myfile!')"
   ]
  },
  {
   "cell_type": "markdown",
   "metadata": {},
   "source": [
    "## 파일 입출력 - 'a'\n",
    "* 파일이 이미 존재한다면, 가장 뒤에 이어서 씀"
   ]
  },
  {
   "cell_type": "code",
   "execution_count": null,
   "metadata": {},
   "outputs": [],
   "source": [
    "with open('../data/hello.txt','a') as myfile:\n",
    "    myfile.write('\\nHello, Myfile!')"
   ]
  },
  {
   "cell_type": "markdown",
   "metadata": {},
   "source": [
    "## 파일 입출력 - '+' (각자 셀을 하나씩 실행해보고 어떤 결과가 나타나는지 파일을 눈으로 확인해볼 것)\n",
    "* 'w+' : 파일을 지우고 다시 씀"
   ]
  },
  {
   "cell_type": "code",
   "execution_count": null,
   "metadata": {},
   "outputs": [],
   "source": [
    "with open('../data/truncate.txt','w') as myfile:\n",
    "    myfile.write('This is old file.')"
   ]
  },
  {
   "cell_type": "code",
   "execution_count": null,
   "metadata": {},
   "outputs": [],
   "source": [
    "with open('../data/truncate.txt','w+') as myfile:\n",
    "    myfile.write('That')"
   ]
  },
  {
   "cell_type": "markdown",
   "metadata": {},
   "source": [
    "* 'r+' : 파일의 맨 앞부터 덮어씀"
   ]
  },
  {
   "cell_type": "code",
   "execution_count": null,
   "metadata": {},
   "outputs": [],
   "source": [
    "with open('../data/truncate.txt','w') as myfile:\n",
    "    myfile.write('This is old file.')"
   ]
  },
  {
   "cell_type": "code",
   "execution_count": null,
   "metadata": {},
   "outputs": [],
   "source": [
    "with open('../data/truncate.txt','r+') as myfile:\n",
    "    myfile.write('That')"
   ]
  },
  {
   "cell_type": "markdown",
   "metadata": {},
   "source": [
    "## 산술 연산자\n",
    "* // : 몫만 구하는 나눗셈\n",
    "* % : 나머지만 구하는 나눗셈\n",
    "* \\*\\* : 제곱"
   ]
  },
  {
   "cell_type": "code",
   "execution_count": null,
   "metadata": {},
   "outputs": [],
   "source": [
    "a = 8 // 5\n",
    "a"
   ]
  },
  {
   "cell_type": "code",
   "execution_count": null,
   "metadata": {},
   "outputs": [],
   "source": [
    "a = 8 % 5\n",
    "a"
   ]
  },
  {
   "cell_type": "code",
   "execution_count": null,
   "metadata": {},
   "outputs": [],
   "source": [
    "a = 3 ** 2\n",
    "a"
   ]
  },
  {
   "cell_type": "markdown",
   "metadata": {},
   "source": [
    "## 대입 연산자\n",
    "* 변수와 값의 산술 연산 후 다시 대입"
   ]
  },
  {
   "cell_type": "code",
   "execution_count": null,
   "metadata": {},
   "outputs": [],
   "source": [
    "a = 8\n",
    "a //= 5\n",
    "a"
   ]
  },
  {
   "cell_type": "code",
   "execution_count": null,
   "metadata": {},
   "outputs": [],
   "source": [
    "a = 8\n",
    "a %= 5\n",
    "a"
   ]
  },
  {
   "cell_type": "code",
   "execution_count": null,
   "metadata": {},
   "outputs": [],
   "source": [
    "a = 3\n",
    "a **= 2\n",
    "a"
   ]
  },
  {
   "cell_type": "code",
   "execution_count": null,
   "metadata": {},
   "outputs": [],
   "source": []
  }
 ],
 "metadata": {
  "kernelspec": {
   "display_name": "Python 3",
   "language": "python",
   "name": "python3"
  },
  "language_info": {
   "codemirror_mode": {
    "name": "ipython",
    "version": 3
   },
   "file_extension": ".py",
   "mimetype": "text/x-python",
   "name": "python",
   "nbconvert_exporter": "python",
   "pygments_lexer": "ipython3",
   "version": "3.7.6"
  }
 },
 "nbformat": 4,
 "nbformat_minor": 4
}
