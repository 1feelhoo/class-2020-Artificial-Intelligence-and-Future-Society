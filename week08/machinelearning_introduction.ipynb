{
 "cells": [
  {
   "cell_type": "markdown",
   "metadata": {},
   "source": [
    "# 머신러닝 소개, scikit-learn 패키지 사용법"
   ]
  },
  {
   "cell_type": "markdown",
   "metadata": {},
   "source": [
    "## 설치 된 모듈 확인"
   ]
  },
  {
   "cell_type": "code",
   "execution_count": null,
   "metadata": {},
   "outputs": [],
   "source": [
    "import scipy\n",
    "import numpy as np\n",
    "import sklearn\n",
    "import tensorflow as tf\n",
    "import pandas as pd\n",
    "import matplotlib.pyplot as plt"
   ]
  },
  {
   "cell_type": "markdown",
   "metadata": {},
   "source": [
    "* 이번 주 코드에서 이해 안되는 부분은 넘어가기 바랍니다.\n",
    "* matplotlib 으로 그래프 그리는 방법에 관한 자세한 설명은 다음 주 강의에서 하겠습니다.\n",
    "* 이번 주는 사이킷 런 코드 부분만 사용법을 익히기 바랍니다."
   ]
  },
  {
   "cell_type": "code",
   "execution_count": 1,
   "metadata": {},
   "outputs": [],
   "source": [
    "# 필요한 패키지 불러오기\n",
    "import matplotlib.pyplot as plt # 무시\n",
    "from mpl_toolkits.mplot3d import Axes3D # 무시\n",
    "\n",
    "import numpy as np\n",
    "from scipy import stats\n",
    "\n",
    "from sklearn import datasets\n",
    "from sklearn.svm import LinearSVC, SVC\n",
    "from sklearn.preprocessing import StandardScaler\n",
    "from sklearn.model_selection import train_test_split\n",
    "from sklearn.metrics import accuracy_score\n",
    "\n",
    "%matplotlib inline"
   ]
  },
  {
   "cell_type": "markdown",
   "metadata": {},
   "source": [
    "## 논리곱(AND)\n",
    "* 둘 모두 참이어야 참\n",
    "* 머신러닝에서 A, B가 모델에 입력되는 속성이고, 결과가 모델로부터 나타나는 결과\n",
    "\n",
    "|A|B|결과|\n",
    "|:-:|:-:|:-:|\n",
    "|0|0|0|\n",
    "|0|1|0|\n",
    "|1|0|0|\n",
    "|1|1|1|"
   ]
  },
  {
   "cell_type": "code",
   "execution_count": null,
   "metadata": {},
   "outputs": [],
   "source": [
    "X = [\n",
    "    [0, 0],\n",
    "    [0, 1],\n",
    "    [1, 0],\n",
    "    [1, 1]\n",
    "]\n",
    "\n",
    "y = [0,0,0,1]\n",
    "\n",
    "X = np.array(X)\n",
    "y = np.array(y)"
   ]
  },
  {
   "cell_type": "markdown",
   "metadata": {},
   "source": [
    "* zip은 길이가 동일한 두 리스트나 튜플의 원소를 짝지어 묶어줌 "
   ]
  },
  {
   "cell_type": "code",
   "execution_count": null,
   "metadata": {},
   "outputs": [],
   "source": [
    "for _x, _y in zip(X, y):\n",
    "    print(_x, _y)"
   ]
  },
  {
   "cell_type": "markdown",
   "metadata": {},
   "source": [
    "* AND 연산은 선형 분리 가능\n",
    "  * 직선 한 개로 분리 가능하다는 의미\n",
    "  * 즉, 아래 그림과 같이 $y > -x + 1.5$ 참이면 1, 아니면 0\n",
    "  * A, B 를 각각 $(x, y)$ 에 대입해보자.\n",
    "  * (참고) $y = -x + 1.5$ 와 같은 식을 decision boundary 라고 부름"
   ]
  },
  {
   "cell_type": "code",
   "execution_count": null,
   "metadata": {},
   "outputs": [],
   "source": [
    "# 이해 안되는 코드는 일단 넘어갈 것\n",
    "plt.figure(figsize=(5,5))\n",
    "x = np.linspace(-2, 2, 100)\n",
    "plt.scatter(X[:, 0][:3], X[:, 1][:3], color='blue', edgecolor='k', label=0)\n",
    "plt.scatter(X[:, 0][3:], X[:, 1][3:], color='red', edgecolor='k', label=1)\n",
    "plt.plot(x, -x + 1.5, color='orange',label='y = -x + 1.5')\n",
    "plt.ylim(-.5, 1.5)\n",
    "plt.xlim(-.5, 1.5)\n",
    "plt.legend()\n",
    "plt.title('AND')\n",
    "plt.show()"
   ]
  },
  {
   "cell_type": "code",
   "execution_count": null,
   "metadata": {},
   "outputs": [],
   "source": [
    "# 선형 분리 데이터용 모델에 적용\n",
    "svc_linear = LinearSVC().fit(X, y)\n",
    "y_pred = svc_linear.predict(X)\n",
    "print(y_pred)"
   ]
  },
  {
   "cell_type": "code",
   "execution_count": null,
   "metadata": {},
   "outputs": [],
   "source": [
    "# 이해 안되는 코드는 일단 넘어갈 것\n",
    "XX, YY = np.meshgrid(np.linspace(-.5, 1.5, 100), np.linspace(-.5, 1.5, 100))\n",
    "temp = np.zeros((len(XX.flatten()), 2))\n",
    "temp[:, 0] = XX.flatten()\n",
    "temp[:, 1] = YY.flatten()\n",
    "\n",
    "ZZ = svc_linear.predict(temp)\n",
    "ZZ = np.reshape(ZZ, XX.shape)"
   ]
  },
  {
   "cell_type": "code",
   "execution_count": null,
   "metadata": {},
   "outputs": [],
   "source": [
    "# 이해 안되는 코드는 일단 넘어갈 것\n",
    "plt.figure(figsize=(5,5))\n",
    "plt.contourf(XX, YY, ZZ, alpha=.5)\n",
    "plt.scatter(X[:, 0][:3], X[:, 1][:3], color='blue', edgecolor='k', label=0)\n",
    "plt.scatter(X[:, 0][3:], X[:, 1][3:], color='red', edgecolor='k', label=1)\n",
    "plt.ylim(-.5, 1.5)\n",
    "plt.xlim(-.5, 1.5)\n",
    "plt.legend()\n",
    "plt.title('SVM with linear kernel')\n",
    "plt.show()"
   ]
  },
  {
   "cell_type": "markdown",
   "metadata": {},
   "source": [
    "## 논리합(OR)\n",
    "* 둘 중 하나라도 참이면 참\n",
    "\n",
    "|A|B|결과|\n",
    "|:-:|:-:|:-:|\n",
    "|0|0|0|\n",
    "|0|1|1|\n",
    "|1|0|1|\n",
    "|1|1|1|"
   ]
  },
  {
   "cell_type": "code",
   "execution_count": null,
   "metadata": {},
   "outputs": [],
   "source": [
    "X = [\n",
    "    [0, 0],\n",
    "    [0, 1],\n",
    "    [1, 0],\n",
    "    [1, 1]\n",
    "]\n",
    "\n",
    "y = [0,1,1,1]\n",
    "\n",
    "X = np.array(X)\n",
    "y = np.array(y)"
   ]
  },
  {
   "cell_type": "markdown",
   "metadata": {},
   "source": [
    "* OR 연산 또한 선형 분리 가능\n",
    "  * 즉, 아래 그림과 같이 $y > -x + 0.5$ 참이면 1, 아니면 0\n",
    "  * A, B 를 각각 $(x, y)$ 에 대입해보자."
   ]
  },
  {
   "cell_type": "code",
   "execution_count": null,
   "metadata": {},
   "outputs": [],
   "source": [
    "# 이해 안되는 코드는 일단 넘어갈 것\n",
    "plt.figure(figsize=(5,5))\n",
    "x = np.linspace(-2, 2, 100)\n",
    "plt.scatter(X[:, 0][:1], X[:, 1][:1], color='blue', edgecolor='k', label=0)\n",
    "plt.scatter(X[:, 0][1:], X[:, 1][1:], color='red', edgecolor='k', label=1)\n",
    "plt.plot(x, -x + .5, color='orange',label='y = -x + 0.5')\n",
    "plt.ylim(-.5, 1.5)\n",
    "plt.xlim(-.5, 1.5)\n",
    "plt.legend()\n",
    "plt.title('OR')\n",
    "plt.show()"
   ]
  },
  {
   "cell_type": "code",
   "execution_count": null,
   "metadata": {},
   "outputs": [],
   "source": [
    "# 선형 분리 데이터용 모델에 적용\n",
    "svc_linear = LinearSVC().fit(X, y)\n",
    "y_pred = svc_linear.predict(X)\n",
    "print(y_pred)"
   ]
  },
  {
   "cell_type": "code",
   "execution_count": null,
   "metadata": {},
   "outputs": [],
   "source": [
    "# 이해 안되는 코드는 일단 넘어갈 것\n",
    "XX, YY = np.meshgrid(np.linspace(-.5, 1.5, 100), np.linspace(-.5, 1.5, 100))\n",
    "temp = np.zeros((len(XX.flatten()), 2))\n",
    "temp[:, 0] = XX.flatten()\n",
    "temp[:, 1] = YY.flatten()\n",
    "\n",
    "ZZ = svc_linear.predict(temp)\n",
    "ZZ = np.reshape(ZZ, XX.shape)"
   ]
  },
  {
   "cell_type": "code",
   "execution_count": null,
   "metadata": {},
   "outputs": [],
   "source": [
    "# 이해 안되는 코드는 일단 넘어갈 것\n",
    "plt.figure(figsize=(5,5))\n",
    "plt.contourf(XX, YY, ZZ, alpha=.5)\n",
    "plt.scatter(X[:, 0][:1], X[:, 1][:1], color='blue', edgecolor='k', label=0)\n",
    "plt.scatter(X[:, 0][1:], X[:, 1][1:], color='red', edgecolor='k', label=1)\n",
    "plt.ylim(-.5, 1.5)\n",
    "plt.xlim(-.5, 1.5)\n",
    "plt.legend()\n",
    "plt.title('SVM with linear kernel')\n",
    "plt.show()"
   ]
  },
  {
   "cell_type": "markdown",
   "metadata": {},
   "source": [
    "## 머신러닝은?\n",
    "* 분류 문제에서 머신러닝이란 클래스를 나누어주는 decision boundary 를 찾아가는 과정"
   ]
  },
  {
   "cell_type": "markdown",
   "metadata": {},
   "source": [
    "## 배타적논리합(XOR)\n",
    "* 둘 중 하나만 참이어야 참\n",
    "\n",
    "|A|B|결과|\n",
    "|:-:|:-:|:-:|\n",
    "|0|0|0|\n",
    "|0|1|1|\n",
    "|1|0|1|\n",
    "|1|1|0|"
   ]
  },
  {
   "cell_type": "code",
   "execution_count": null,
   "metadata": {},
   "outputs": [],
   "source": [
    "X = [\n",
    "    [0, 0],\n",
    "    [0, 1],\n",
    "    [1, 0],\n",
    "    [1, 1]\n",
    "]\n",
    "\n",
    "y = [0,1,1,0]\n",
    "\n",
    "X = np.array(X)\n",
    "y = np.array(y)"
   ]
  },
  {
   "cell_type": "markdown",
   "metadata": {},
   "source": [
    "* XOR 연산은 선형 분리 불가능\n",
    "  * 1차 함수 하나로 분리가 불가능"
   ]
  },
  {
   "cell_type": "code",
   "execution_count": null,
   "metadata": {},
   "outputs": [],
   "source": [
    "# 이해 안되는 코드는 일단 넘어갈 것\n",
    "plt.figure(figsize=(5,5))\n",
    "x = np.linspace(-2, 2, 100)\n",
    "plt.scatter(X[:, 0][:1], X[:, 1][:1], color='blue', edgecolor='k', label=0)\n",
    "plt.scatter(X[:, 0][1:3], X[:, 1][1:3], color='red', edgecolor='k', label=1)\n",
    "plt.scatter(X[:, 0][3:], X[:, 1][3:], color='blue', edgecolor='k')\n",
    "plt.plot(x, -x + .5, color='orange',label='y = -x + 0.5')\n",
    "plt.plot(x, -x + 1.5, color='orange',label='y = -x + 1.5')\n",
    "plt.ylim(-.5, 1.5)\n",
    "plt.xlim(-.5, 1.5)\n",
    "plt.legend()\n",
    "plt.title('XOR')\n",
    "plt.show()"
   ]
  },
  {
   "cell_type": "markdown",
   "metadata": {},
   "source": [
    "## 서포트 벡터 머신 (support vector machine, SVM)\n",
    "* 모델이름.fit(X, y) : X 속성에 해당하는 y 클래스로 분류하는 모델 학습\n",
    "* 모델이름.predict(new_X) : 새롭게 관측한 new_X 속성을 갖는 데이터가 어떤 클래스에 속하는지 분류\n",
    "* 데이터가 선형분리 된다는 가정으로 모델을 만들면?"
   ]
  },
  {
   "cell_type": "code",
   "execution_count": null,
   "metadata": {},
   "outputs": [],
   "source": [
    "# 선형 분리 데이터용 모델에 적용\n",
    "svc_linear = LinearSVC().fit(X, y)\n",
    "y_pred = svc_linear.predict(X)\n",
    "print(y_pred)"
   ]
  },
  {
   "cell_type": "code",
   "execution_count": null,
   "metadata": {},
   "outputs": [],
   "source": [
    "# 이해 안되는 코드는 일단 넘어갈 것\n",
    "XX, YY = np.meshgrid(np.linspace(-.5, 1.5, 100), np.linspace(-.5, 1.5, 100))\n",
    "temp = np.zeros((len(XX.flatten()), 2))\n",
    "temp[:, 0] = XX.flatten()\n",
    "temp[:, 1] = YY.flatten()\n",
    "\n",
    "ZZ = svc_linear.predict(temp)\n",
    "ZZ = np.reshape(ZZ, XX.shape)"
   ]
  },
  {
   "cell_type": "code",
   "execution_count": null,
   "metadata": {},
   "outputs": [],
   "source": [
    "# 이해 안되는 코드는 일단 넘어갈 것\n",
    "plt.figure(figsize=(5,5))\n",
    "plt.contourf(XX, YY, ZZ, alpha=.5)\n",
    "plt.scatter(X[:, 0][:1], X[:, 1][:1], color='blue', edgecolor='k', label=0)\n",
    "plt.scatter(X[:, 0][1:3], X[:, 1][1:3], color='red', edgecolor='k', label=1)\n",
    "plt.scatter(X[:, 0][3:], X[:, 1][3:], color='blue', edgecolor='k')\n",
    "plt.ylim(-.5, 1.5)\n",
    "plt.xlim(-.5, 1.5)\n",
    "plt.legend()\n",
    "plt.title('SVM with linear kernel')\n",
    "plt.show()"
   ]
  },
  {
   "cell_type": "markdown",
   "metadata": {},
   "source": [
    "* (1, 1) 데이터에 오류 발생"
   ]
  },
  {
   "cell_type": "markdown",
   "metadata": {},
   "source": [
    "* XOR 로 주어진 점을 커널을 이용해서 맵핑해봅시다.\n",
    "* 즉, $(x, y)$ 점을 $(x, y, x*y)$ 점에 맵핑\n",
    "* 세 번째 차원을 AND 연산 한 결과와 동일"
   ]
  },
  {
   "cell_type": "code",
   "execution_count": null,
   "metadata": {},
   "outputs": [],
   "source": [
    "print('원래 점')\n",
    "for x in X:\n",
    "    print(x)"
   ]
  },
  {
   "cell_type": "code",
   "execution_count": null,
   "metadata": {},
   "outputs": [],
   "source": [
    "def kernel(X):\n",
    "    _X = np.zeros((len(X), 3))\n",
    "    for i in range(len(X)):\n",
    "        x = X[i][0]\n",
    "        y = X[i][1]\n",
    "        _X[i] = [x, y, x*y]\n",
    "    return _X\n",
    "\n",
    "_X = kernel(X)\n",
    "\n",
    "print('커널 매핑 후 점')\n",
    "for x in _X:\n",
    "    print(x)"
   ]
  },
  {
   "cell_type": "markdown",
   "metadata": {},
   "source": [
    "즉,\n",
    "\n",
    "|A|B|\n",
    "|:-:|:-:|\n",
    "|0|0|\n",
    "|0|1|\n",
    "|1|0|\n",
    "|1|1|\n",
    "\n",
    "를\n",
    "\n",
    "|A|B|C|\n",
    "|:-:|:-:|:-:|\n",
    "|0|0|0|\n",
    "|0|1|0|\n",
    "|1|0|0|\n",
    "|1|1|1|\n",
    "\n",
    "으로 매핑"
   ]
  },
  {
   "cell_type": "code",
   "execution_count": null,
   "metadata": {},
   "outputs": [],
   "source": [
    "fig = plt.figure(figsize=(5,5))\n",
    "ax = fig.add_subplot(111, projection='3d')\n",
    "\n",
    "xx, yy = np.meshgrid(np.linspace(-2,2,100), np.linspace(-2,2,100))\n",
    "zz = xx/2 + yy/2\n",
    "ax.plot_surface(xx,yy,zz, alpha=.1, color='yellow')\n",
    "\n",
    "ax.scatter(_X[:,0][0], _X[:,1][0], _X[:,2][0], label='0',color='blue')\n",
    "ax.scatter(_X[:,0][1:3], _X[:,1][1:3], _X[:,2][1:3], label='1', color='red')\n",
    "ax.scatter(_X[:,0][3], _X[:,1][3], _X[:,2][3], color='blue')\n",
    "ax.set_xlabel('x')\n",
    "ax.set_ylabel('y')\n",
    "ax.set_zlabel('z')\n",
    "\n",
    "plt.ylim(-.5, 1.5)\n",
    "plt.xlim(-.5, 1.5)\n",
    "plt.legend()\n",
    "plt.show()"
   ]
  },
  {
   "cell_type": "markdown",
   "metadata": {},
   "source": [
    "* 위 그림이 잘 안보이는데 아래 그림 처럼 생각하면 됨\n",
    "* 즉 커널을 이용하여 데이터 포인트를 매핑하여, 아래 그림 회색 초평면으로 분리 가능\n",
    "![](https://www.researchgate.net/profile/John_Bishop5/publication/271841595/figure/fig19/AS:668441707024390@1536380330379/Mapping-the-two-input-XOR-function-into-a-3D-space.png)\n",
    "\n",
    "(출처: https://bit.ly/3dBGEv8)"
   ]
  },
  {
   "cell_type": "markdown",
   "metadata": {},
   "source": [
    "* 선형 분리 안되는 데이터를 새로운 차원에 매핑하여 선형 분리 시킴"
   ]
  },
  {
   "cell_type": "code",
   "execution_count": null,
   "metadata": {},
   "outputs": [],
   "source": [
    "# rbf 커널이 데이터를 선형 분리 형태로 바꾸어주는 역할을 함\n",
    "svc_rbf = SVC().fit(X, y)\n",
    "y_pred = svc_rbf.predict(X)\n",
    "print('실제 데이터\\t', y)\n",
    "print('모델이 학습한 결과\\t',y_pred)"
   ]
  },
  {
   "cell_type": "code",
   "execution_count": null,
   "metadata": {},
   "outputs": [],
   "source": [
    "# 이해 안되는 코드는 일단 넘어갈 것\n",
    "XX, YY = np.meshgrid(np.linspace(-.5, 1.5, 100), np.linspace(-.5, 1.5, 100))\n",
    "temp = np.zeros((len(XX.flatten()), 2))\n",
    "temp[:, 0] = XX.flatten()\n",
    "temp[:, 1] = YY.flatten()\n",
    "\n",
    "ZZ = svc_rbf.predict(temp)\n",
    "ZZ = np.reshape(ZZ, XX.shape)"
   ]
  },
  {
   "cell_type": "markdown",
   "metadata": {},
   "source": [
    "* 0 과 1 클래스에 따라 decision boundary 가 확실히 나누어짐"
   ]
  },
  {
   "cell_type": "code",
   "execution_count": null,
   "metadata": {},
   "outputs": [],
   "source": [
    "# 이해 안되는 코드는 일단 넘어갈 것\n",
    "plt.figure(figsize=(5,5))\n",
    "plt.contourf(XX, YY, ZZ, alpha=.5)\n",
    "plt.scatter(X[:, 0][:1], X[:, 1][:1], color='blue', edgecolor='k', label=0)\n",
    "plt.scatter(X[:, 0][1:3], X[:, 1][1:3], color='red', edgecolor='k', label=1)\n",
    "plt.scatter(X[:, 0][3:], X[:, 1][3:], color='blue', edgecolor='k')\n",
    "plt.ylim(-.5, 1.5)\n",
    "plt.xlim(-.5, 1.5)\n",
    "plt.legend()\n",
    "plt.title('SVM with linear kernel')\n",
    "plt.show()"
   ]
  },
  {
   "cell_type": "markdown",
   "metadata": {},
   "source": [
    "## 사이킷 런 제공 데이터셋 [(링크)](https://scikit-learn.org/stable/datasets/index.html)\n",
    "* **이 아래 코드 부터 잘 익히기 바랍니다.** \n",
    "* 연습을 위한 토이 데이터셋을 제공함\n",
    "* 외부 웹사이트에서 따로 다운로드 할 필요 없음\n",
    " * 보스턴 집값 데이터\n",
    " * 붓꽃 데이터\n",
    " * 당뇨 데이터\n",
    " * 손글씨 숫자 데이터\n",
    " * Linnerud 데이터\n",
    " * 와인 분류 데이터\n",
    " * 유방암 데이터셋\n",
    "* 현실 세계 데이터셋도 제공\n",
    "* 자동으로 해당 데이터가 다운로드 됨\n",
    " * AT&T 직원 얼굴 데이터셋\n",
    " * 20 뉴스그룹 데이터셋\n",
    " * 얼굴 데이터셋\n",
    " * 숲 데이터셋\n",
    " * 로이터 뉴스 데이터셋\n",
    " * 네트워크 데이터셋\n",
    " * 캘리포니아 집 데이터셋\n",
    "* 그외 무작위 데이터 생성 방법도 제공"
   ]
  },
  {
   "cell_type": "markdown",
   "metadata": {},
   "source": [
    "**수업에서는 붓꽃 데이터로 실습**"
   ]
  },
  {
   "cell_type": "code",
   "execution_count": 2,
   "metadata": {},
   "outputs": [],
   "source": [
    "# 사이킷 런 제공 데이터 불러오기\n",
    "iris = datasets.load_iris()"
   ]
  },
  {
   "cell_type": "markdown",
   "metadata": {},
   "source": [
    "* dir() 내장함수\n",
    "  * 객체가 가지고 있는 속성 리스트를 보여줌"
   ]
  },
  {
   "cell_type": "code",
   "execution_count": 3,
   "metadata": {},
   "outputs": [
    {
     "data": {
      "text/plain": [
       "['DESCR', 'data', 'feature_names', 'filename', 'target', 'target_names']"
      ]
     },
     "execution_count": 3,
     "metadata": {},
     "output_type": "execute_result"
    }
   ],
   "source": [
    "dir(iris)"
   ]
  },
  {
   "cell_type": "code",
   "execution_count": 4,
   "metadata": {},
   "outputs": [
    {
     "name": "stdout",
     "output_type": "stream",
     "text": [
      ".. _iris_dataset:\n",
      "\n",
      "Iris plants dataset\n",
      "--------------------\n",
      "\n",
      "**Data Set Characteristics:**\n",
      "\n",
      "    :Number of Instances: 150 (50 in each of three classes)\n",
      "    :Number of Attributes: 4 numeric, predictive attributes and the class\n",
      "    :Attribute Information:\n",
      "        - sepal length in cm\n",
      "        - sepal width in cm\n",
      "        - petal length in cm\n",
      "        - petal width in cm\n",
      "        - class:\n",
      "                - Iris-Setosa\n",
      "                - Iris-Versicolour\n",
      "                - Iris-Virginica\n",
      "                \n",
      "    :Summary Statistics:\n",
      "\n",
      "    ============== ==== ==== ======= ===== ====================\n",
      "                    Min  Max   Mean    SD   Class Correlation\n",
      "    ============== ==== ==== ======= ===== ====================\n",
      "    sepal length:   4.3  7.9   5.84   0.83    0.7826\n",
      "    sepal width:    2.0  4.4   3.05   0.43   -0.4194\n",
      "    petal length:   1.0  6.9   3.76   1.76    0.9490  (high!)\n",
      "    petal width:    0.1  2.5   1.20   0.76    0.9565  (high!)\n",
      "    ============== ==== ==== ======= ===== ====================\n",
      "\n",
      "    :Missing Attribute Values: None\n",
      "    :Class Distribution: 33.3% for each of 3 classes.\n",
      "    :Creator: R.A. Fisher\n",
      "    :Donor: Michael Marshall (MARSHALL%PLU@io.arc.nasa.gov)\n",
      "    :Date: July, 1988\n",
      "\n",
      "The famous Iris database, first used by Sir R.A. Fisher. The dataset is taken\n",
      "from Fisher's paper. Note that it's the same as in R, but not as in the UCI\n",
      "Machine Learning Repository, which has two wrong data points.\n",
      "\n",
      "This is perhaps the best known database to be found in the\n",
      "pattern recognition literature.  Fisher's paper is a classic in the field and\n",
      "is referenced frequently to this day.  (See Duda & Hart, for example.)  The\n",
      "data set contains 3 classes of 50 instances each, where each class refers to a\n",
      "type of iris plant.  One class is linearly separable from the other 2; the\n",
      "latter are NOT linearly separable from each other.\n",
      "\n",
      ".. topic:: References\n",
      "\n",
      "   - Fisher, R.A. \"The use of multiple measurements in taxonomic problems\"\n",
      "     Annual Eugenics, 7, Part II, 179-188 (1936); also in \"Contributions to\n",
      "     Mathematical Statistics\" (John Wiley, NY, 1950).\n",
      "   - Duda, R.O., & Hart, P.E. (1973) Pattern Classification and Scene Analysis.\n",
      "     (Q327.D83) John Wiley & Sons.  ISBN 0-471-22361-1.  See page 218.\n",
      "   - Dasarathy, B.V. (1980) \"Nosing Around the Neighborhood: A New System\n",
      "     Structure and Classification Rule for Recognition in Partially Exposed\n",
      "     Environments\".  IEEE Transactions on Pattern Analysis and Machine\n",
      "     Intelligence, Vol. PAMI-2, No. 1, 67-71.\n",
      "   - Gates, G.W. (1972) \"The Reduced Nearest Neighbor Rule\".  IEEE Transactions\n",
      "     on Information Theory, May 1972, 431-433.\n",
      "   - See also: 1988 MLC Proceedings, 54-64.  Cheeseman et al\"s AUTOCLASS II\n",
      "     conceptual clustering system finds 3 classes in the data.\n",
      "   - Many, many more ...\n"
     ]
    }
   ],
   "source": [
    "# 데이터 설명\n",
    "print(iris['DESCR'])"
   ]
  },
  {
   "cell_type": "code",
   "execution_count": 5,
   "metadata": {},
   "outputs": [
    {
     "name": "stdout",
     "output_type": "stream",
     "text": [
      "/Users/woonghee/miniconda3/envs/aifs/lib/python3.7/site-packages/sklearn/datasets/data/iris.csv\n"
     ]
    }
   ],
   "source": [
    "# 데이터 저장 된 위치\n",
    "print(iris['filename'])"
   ]
  },
  {
   "cell_type": "code",
   "execution_count": 6,
   "metadata": {},
   "outputs": [
    {
     "name": "stdout",
     "output_type": "stream",
     "text": [
      "['sepal length (cm)', 'sepal width (cm)', 'petal length (cm)', 'petal width (cm)']\n"
     ]
    }
   ],
   "source": [
    "# 속성 이름\n",
    "print(iris['feature_names'])"
   ]
  },
  {
   "cell_type": "code",
   "execution_count": 7,
   "metadata": {},
   "outputs": [
    {
     "name": "stdout",
     "output_type": "stream",
     "text": [
      "['setosa' 'versicolor' 'virginica']\n"
     ]
    }
   ],
   "source": [
    "# 타겟 이름\n",
    "print(iris['target_names'])"
   ]
  },
  {
   "cell_type": "code",
   "execution_count": 8,
   "metadata": {},
   "outputs": [
    {
     "data": {
      "text/plain": [
       "array([[5.1, 3.5, 1.4, 0.2],\n",
       "       [4.9, 3. , 1.4, 0.2],\n",
       "       [4.7, 3.2, 1.3, 0.2],\n",
       "       [4.6, 3.1, 1.5, 0.2],\n",
       "       [5. , 3.6, 1.4, 0.2],\n",
       "       [5.4, 3.9, 1.7, 0.4],\n",
       "       [4.6, 3.4, 1.4, 0.3],\n",
       "       [5. , 3.4, 1.5, 0.2],\n",
       "       [4.4, 2.9, 1.4, 0.2],\n",
       "       [4.9, 3.1, 1.5, 0.1],\n",
       "       [5.4, 3.7, 1.5, 0.2],\n",
       "       [4.8, 3.4, 1.6, 0.2],\n",
       "       [4.8, 3. , 1.4, 0.1],\n",
       "       [4.3, 3. , 1.1, 0.1],\n",
       "       [5.8, 4. , 1.2, 0.2],\n",
       "       [5.7, 4.4, 1.5, 0.4],\n",
       "       [5.4, 3.9, 1.3, 0.4],\n",
       "       [5.1, 3.5, 1.4, 0.3],\n",
       "       [5.7, 3.8, 1.7, 0.3],\n",
       "       [5.1, 3.8, 1.5, 0.3],\n",
       "       [5.4, 3.4, 1.7, 0.2],\n",
       "       [5.1, 3.7, 1.5, 0.4],\n",
       "       [4.6, 3.6, 1. , 0.2],\n",
       "       [5.1, 3.3, 1.7, 0.5],\n",
       "       [4.8, 3.4, 1.9, 0.2],\n",
       "       [5. , 3. , 1.6, 0.2],\n",
       "       [5. , 3.4, 1.6, 0.4],\n",
       "       [5.2, 3.5, 1.5, 0.2],\n",
       "       [5.2, 3.4, 1.4, 0.2],\n",
       "       [4.7, 3.2, 1.6, 0.2],\n",
       "       [4.8, 3.1, 1.6, 0.2],\n",
       "       [5.4, 3.4, 1.5, 0.4],\n",
       "       [5.2, 4.1, 1.5, 0.1],\n",
       "       [5.5, 4.2, 1.4, 0.2],\n",
       "       [4.9, 3.1, 1.5, 0.2],\n",
       "       [5. , 3.2, 1.2, 0.2],\n",
       "       [5.5, 3.5, 1.3, 0.2],\n",
       "       [4.9, 3.6, 1.4, 0.1],\n",
       "       [4.4, 3. , 1.3, 0.2],\n",
       "       [5.1, 3.4, 1.5, 0.2],\n",
       "       [5. , 3.5, 1.3, 0.3],\n",
       "       [4.5, 2.3, 1.3, 0.3],\n",
       "       [4.4, 3.2, 1.3, 0.2],\n",
       "       [5. , 3.5, 1.6, 0.6],\n",
       "       [5.1, 3.8, 1.9, 0.4],\n",
       "       [4.8, 3. , 1.4, 0.3],\n",
       "       [5.1, 3.8, 1.6, 0.2],\n",
       "       [4.6, 3.2, 1.4, 0.2],\n",
       "       [5.3, 3.7, 1.5, 0.2],\n",
       "       [5. , 3.3, 1.4, 0.2],\n",
       "       [7. , 3.2, 4.7, 1.4],\n",
       "       [6.4, 3.2, 4.5, 1.5],\n",
       "       [6.9, 3.1, 4.9, 1.5],\n",
       "       [5.5, 2.3, 4. , 1.3],\n",
       "       [6.5, 2.8, 4.6, 1.5],\n",
       "       [5.7, 2.8, 4.5, 1.3],\n",
       "       [6.3, 3.3, 4.7, 1.6],\n",
       "       [4.9, 2.4, 3.3, 1. ],\n",
       "       [6.6, 2.9, 4.6, 1.3],\n",
       "       [5.2, 2.7, 3.9, 1.4],\n",
       "       [5. , 2. , 3.5, 1. ],\n",
       "       [5.9, 3. , 4.2, 1.5],\n",
       "       [6. , 2.2, 4. , 1. ],\n",
       "       [6.1, 2.9, 4.7, 1.4],\n",
       "       [5.6, 2.9, 3.6, 1.3],\n",
       "       [6.7, 3.1, 4.4, 1.4],\n",
       "       [5.6, 3. , 4.5, 1.5],\n",
       "       [5.8, 2.7, 4.1, 1. ],\n",
       "       [6.2, 2.2, 4.5, 1.5],\n",
       "       [5.6, 2.5, 3.9, 1.1],\n",
       "       [5.9, 3.2, 4.8, 1.8],\n",
       "       [6.1, 2.8, 4. , 1.3],\n",
       "       [6.3, 2.5, 4.9, 1.5],\n",
       "       [6.1, 2.8, 4.7, 1.2],\n",
       "       [6.4, 2.9, 4.3, 1.3],\n",
       "       [6.6, 3. , 4.4, 1.4],\n",
       "       [6.8, 2.8, 4.8, 1.4],\n",
       "       [6.7, 3. , 5. , 1.7],\n",
       "       [6. , 2.9, 4.5, 1.5],\n",
       "       [5.7, 2.6, 3.5, 1. ],\n",
       "       [5.5, 2.4, 3.8, 1.1],\n",
       "       [5.5, 2.4, 3.7, 1. ],\n",
       "       [5.8, 2.7, 3.9, 1.2],\n",
       "       [6. , 2.7, 5.1, 1.6],\n",
       "       [5.4, 3. , 4.5, 1.5],\n",
       "       [6. , 3.4, 4.5, 1.6],\n",
       "       [6.7, 3.1, 4.7, 1.5],\n",
       "       [6.3, 2.3, 4.4, 1.3],\n",
       "       [5.6, 3. , 4.1, 1.3],\n",
       "       [5.5, 2.5, 4. , 1.3],\n",
       "       [5.5, 2.6, 4.4, 1.2],\n",
       "       [6.1, 3. , 4.6, 1.4],\n",
       "       [5.8, 2.6, 4. , 1.2],\n",
       "       [5. , 2.3, 3.3, 1. ],\n",
       "       [5.6, 2.7, 4.2, 1.3],\n",
       "       [5.7, 3. , 4.2, 1.2],\n",
       "       [5.7, 2.9, 4.2, 1.3],\n",
       "       [6.2, 2.9, 4.3, 1.3],\n",
       "       [5.1, 2.5, 3. , 1.1],\n",
       "       [5.7, 2.8, 4.1, 1.3],\n",
       "       [6.3, 3.3, 6. , 2.5],\n",
       "       [5.8, 2.7, 5.1, 1.9],\n",
       "       [7.1, 3. , 5.9, 2.1],\n",
       "       [6.3, 2.9, 5.6, 1.8],\n",
       "       [6.5, 3. , 5.8, 2.2],\n",
       "       [7.6, 3. , 6.6, 2.1],\n",
       "       [4.9, 2.5, 4.5, 1.7],\n",
       "       [7.3, 2.9, 6.3, 1.8],\n",
       "       [6.7, 2.5, 5.8, 1.8],\n",
       "       [7.2, 3.6, 6.1, 2.5],\n",
       "       [6.5, 3.2, 5.1, 2. ],\n",
       "       [6.4, 2.7, 5.3, 1.9],\n",
       "       [6.8, 3. , 5.5, 2.1],\n",
       "       [5.7, 2.5, 5. , 2. ],\n",
       "       [5.8, 2.8, 5.1, 2.4],\n",
       "       [6.4, 3.2, 5.3, 2.3],\n",
       "       [6.5, 3. , 5.5, 1.8],\n",
       "       [7.7, 3.8, 6.7, 2.2],\n",
       "       [7.7, 2.6, 6.9, 2.3],\n",
       "       [6. , 2.2, 5. , 1.5],\n",
       "       [6.9, 3.2, 5.7, 2.3],\n",
       "       [5.6, 2.8, 4.9, 2. ],\n",
       "       [7.7, 2.8, 6.7, 2. ],\n",
       "       [6.3, 2.7, 4.9, 1.8],\n",
       "       [6.7, 3.3, 5.7, 2.1],\n",
       "       [7.2, 3.2, 6. , 1.8],\n",
       "       [6.2, 2.8, 4.8, 1.8],\n",
       "       [6.1, 3. , 4.9, 1.8],\n",
       "       [6.4, 2.8, 5.6, 2.1],\n",
       "       [7.2, 3. , 5.8, 1.6],\n",
       "       [7.4, 2.8, 6.1, 1.9],\n",
       "       [7.9, 3.8, 6.4, 2. ],\n",
       "       [6.4, 2.8, 5.6, 2.2],\n",
       "       [6.3, 2.8, 5.1, 1.5],\n",
       "       [6.1, 2.6, 5.6, 1.4],\n",
       "       [7.7, 3. , 6.1, 2.3],\n",
       "       [6.3, 3.4, 5.6, 2.4],\n",
       "       [6.4, 3.1, 5.5, 1.8],\n",
       "       [6. , 3. , 4.8, 1.8],\n",
       "       [6.9, 3.1, 5.4, 2.1],\n",
       "       [6.7, 3.1, 5.6, 2.4],\n",
       "       [6.9, 3.1, 5.1, 2.3],\n",
       "       [5.8, 2.7, 5.1, 1.9],\n",
       "       [6.8, 3.2, 5.9, 2.3],\n",
       "       [6.7, 3.3, 5.7, 2.5],\n",
       "       [6.7, 3. , 5.2, 2.3],\n",
       "       [6.3, 2.5, 5. , 1.9],\n",
       "       [6.5, 3. , 5.2, 2. ],\n",
       "       [6.2, 3.4, 5.4, 2.3],\n",
       "       [5.9, 3. , 5.1, 1.8]])"
      ]
     },
     "execution_count": 8,
     "metadata": {},
     "output_type": "execute_result"
    }
   ],
   "source": [
    "# 총 150개의 붓꽃의 네 가지 속성을 측정함\n",
    "iris['data']"
   ]
  },
  {
   "cell_type": "code",
   "execution_count": 9,
   "metadata": {},
   "outputs": [
    {
     "name": "stdout",
     "output_type": "stream",
     "text": [
      "<class 'numpy.ndarray'>\n",
      "(150, 4)\n"
     ]
    }
   ],
   "source": [
    "# numpy array 로 저장되어 있음\n",
    "print(type(iris['data']))\n",
    "\n",
    "# 따라서 shape 로 어떤 모양인지 알 수 있음\n",
    "print(iris['data'].shape)"
   ]
  },
  {
   "cell_type": "code",
   "execution_count": 10,
   "metadata": {},
   "outputs": [
    {
     "data": {
      "text/plain": [
       "array([0, 0, 0, 0, 0, 0, 0, 0, 0, 0, 0, 0, 0, 0, 0, 0, 0, 0, 0, 0, 0, 0,\n",
       "       0, 0, 0, 0, 0, 0, 0, 0, 0, 0, 0, 0, 0, 0, 0, 0, 0, 0, 0, 0, 0, 0,\n",
       "       0, 0, 0, 0, 0, 0, 1, 1, 1, 1, 1, 1, 1, 1, 1, 1, 1, 1, 1, 1, 1, 1,\n",
       "       1, 1, 1, 1, 1, 1, 1, 1, 1, 1, 1, 1, 1, 1, 1, 1, 1, 1, 1, 1, 1, 1,\n",
       "       1, 1, 1, 1, 1, 1, 1, 1, 1, 1, 1, 1, 2, 2, 2, 2, 2, 2, 2, 2, 2, 2,\n",
       "       2, 2, 2, 2, 2, 2, 2, 2, 2, 2, 2, 2, 2, 2, 2, 2, 2, 2, 2, 2, 2, 2,\n",
       "       2, 2, 2, 2, 2, 2, 2, 2, 2, 2, 2, 2, 2, 2, 2, 2, 2, 2])"
      ]
     },
     "execution_count": 10,
     "metadata": {},
     "output_type": "execute_result"
    }
   ],
   "source": [
    "# 품종을 숫자로 적어둔 것\n",
    "iris['target']"
   ]
  },
  {
   "cell_type": "code",
   "execution_count": 11,
   "metadata": {},
   "outputs": [
    {
     "data": {
      "text/plain": [
       "(150,)"
      ]
     },
     "execution_count": 11,
     "metadata": {},
     "output_type": "execute_result"
    }
   ],
   "source": [
    "# 품종도 numpy array 로 저장\n",
    "iris['target'].shape"
   ]
  },
  {
   "cell_type": "markdown",
   "metadata": {},
   "source": [
    "* 변수 이름을 다루기 쉽게 바꿈"
   ]
  },
  {
   "cell_type": "code",
   "execution_count": 12,
   "metadata": {},
   "outputs": [],
   "source": [
    "X = iris['data']\n",
    "y = iris['target']"
   ]
  },
  {
   "cell_type": "code",
   "execution_count": 13,
   "metadata": {},
   "outputs": [
    {
     "data": {
      "text/plain": [
       "((150, 4), (150,))"
      ]
     },
     "execution_count": 13,
     "metadata": {},
     "output_type": "execute_result"
    }
   ],
   "source": [
    "# 둘다 넘파이 배열\n",
    "X.shape, y.shape"
   ]
  },
  {
   "cell_type": "markdown",
   "metadata": {},
   "source": [
    "## 머신러닝 모델 학습 순서\n",
    "* 데이터 전처리 & 특징 추출\n",
    "  * 분야 전문가(꽃 전문가)가 이미 붓꽃의 품종은 꽃받침, 꽃잎의 폭과 길이에 따라 다르다는 점을 이용해서, 네 가지 속성만 기록해둠 (**특징 추출**)\n",
    "  * 속성의 크기를 정규화\n",
    "  * 'sepal length (cm)', 'sepal width (cm)', 'petal length (cm)', 'petal width (cm)' 마다 범위가 제각각임\n",
    "  * 범위를 일정 범위로 정규화 해주어야 모델 학습에 유리\n",
    "    * 표준 정규화 또는 최소최대값 정규화를 해줌\n",
    "* 학습 데이터, 테스트 데이터 분리\n",
    "  * 머신러닝의 목적은 **관측한 데이터**로부터 모델을 학습하여\n",
    "  * 학습한 모델로부터 **새로운 데이터**가 어떤 종류인지(분류)? 어떤 값이 될지(회귀)? 또는 어떤 집단에 속하는지(군집화)? 알아내는 것\n",
    "  * 토이 데이터를 임의로 관측 데이터(학습 데이터, training dataset)와 새로운 데이터(테스트 데이터, test dataset)로 분리\n",
    "* 모델 학습과 예측으로 성능 확인"
   ]
  },
  {
   "cell_type": "markdown",
   "metadata": {},
   "source": [
    "### 데이터 전처리\n",
    "* 표준스케일러\n",
    "* 평균이 0, 표준편차가 1이 되도록 정규화\n",
    "* 즉 각각의 속성에 대해서,\n",
    "  * 평균이 $\\mu$\n",
    "  * 표준편차가 $\\sigma$라면\n",
    "  * $z = {(x-\\mu) \\over \\sigma}$ 로 정규화\n",
    "  * 이 때, $x$는 원래 값, $z$는 정규화 된 값\n",
    "* (품종 구분에 영향을 주는 속성 네 가지 특징만 측정해두었음)"
   ]
  },
  {
   "cell_type": "code",
   "execution_count": 14,
   "metadata": {},
   "outputs": [
    {
     "name": "stdout",
     "output_type": "stream",
     "text": [
      "평균 [-1.69031455e-15 -1.84297022e-15 -1.69864123e-15 -1.40924309e-15]\n",
      "분산 [1.00671141 1.00671141 1.00671141 1.00671141]\n"
     ]
    }
   ],
   "source": [
    "# 크기를 정규화할 클래스를 생성\n",
    "scaler = StandardScaler()\n",
    "\n",
    "# 스케일러가 데이터 크기를 정규화하도록 평균, 분산을 구함\n",
    "scaler.fit(X)\n",
    "\n",
    "# 스케일러가 구한 평균, 분산을 바탕으로 정규화할 데이터를 넣어줌\n",
    "X_normalized = scaler.transform(X)\n",
    "\n",
    "# 통계적 설명\n",
    "X_stats = stats.describe(X_normalized)\n",
    "print(\"평균\",X_stats.mean)\n",
    "print(\"분산\",X_stats.variance)"
   ]
  },
  {
   "cell_type": "markdown",
   "metadata": {},
   "source": [
    "(평균이 거의 0, 분산이 거의 1임을 볼 수 있음)"
   ]
  },
  {
   "cell_type": "markdown",
   "metadata": {},
   "source": [
    "## 학습 / 테스트 데이터 분리\n",
    "* train_test_split(*arrays, test_size, shuffle)\n",
    "* \\*arrays: 인자로 넣은 데이터 개수 만큼 분리해서 튜플로 반환\n",
    "* test_size: 테스트 데이터의 비율\n",
    "* random_state: 결과 재현을 위해 사용\n",
    "* shuffle: 섞어줄지(True) 말지(False)"
   ]
  },
  {
   "cell_type": "code",
   "execution_count": 15,
   "metadata": {},
   "outputs": [],
   "source": [
    "X_train, X_test, y_train, y_test = train_test_split(X_normalized, y, test_size=.25, random_state=0, shuffle=True)"
   ]
  },
  {
   "cell_type": "code",
   "execution_count": 16,
   "metadata": {},
   "outputs": [
    {
     "name": "stdout",
     "output_type": "stream",
     "text": [
      "(112, 4) (112,)\n",
      "(38, 4) (38,)\n"
     ]
    }
   ],
   "source": [
    "print(X_train.shape, y_train.shape)\n",
    "print(X_test.shape, y_test.shape)"
   ]
  },
  {
   "cell_type": "code",
   "execution_count": 17,
   "metadata": {},
   "outputs": [],
   "source": [
    "# 기본 kernel 은 'rbf' 로 모델 학습\n",
    "# support vector machine classifier\n",
    "svc = SVC().fit(X_train, y_train)"
   ]
  },
  {
   "cell_type": "code",
   "execution_count": 18,
   "metadata": {},
   "outputs": [],
   "source": [
    "y_pred = svc.predict(X_test)"
   ]
  },
  {
   "cell_type": "code",
   "execution_count": 19,
   "metadata": {},
   "outputs": [
    {
     "data": {
      "text/plain": [
       "((38,), (38,))"
      ]
     },
     "execution_count": 19,
     "metadata": {},
     "output_type": "execute_result"
    }
   ],
   "source": [
    "y_test.shape, y_pred.shape"
   ]
  },
  {
   "cell_type": "code",
   "execution_count": 20,
   "metadata": {},
   "outputs": [
    {
     "name": "stdout",
     "output_type": "stream",
     "text": [
      "[2 1 0 2 0 2 0 1 1 1 2 1 1 1 1 0 1 1 0 0 2 1 0 0 2 0 0 1 1 0 2 1 0 2 2 1 0\n",
      " 1]\n",
      "[2 1 0 2 0 2 0 1 1 1 2 1 1 1 1 0 1 1 0 0 2 1 0 0 2 0 0 1 1 0 2 1 0 2 2 1 0\n",
      " 2]\n"
     ]
    }
   ],
   "source": [
    "print(y_test)\n",
    "print(y_pred)"
   ]
  },
  {
   "cell_type": "code",
   "execution_count": 21,
   "metadata": {},
   "outputs": [],
   "source": [
    "acc = accuracy_score(y_test, y_pred)"
   ]
  },
  {
   "cell_type": "code",
   "execution_count": 22,
   "metadata": {},
   "outputs": [
    {
     "data": {
      "text/plain": [
       "0.9736842105263158"
      ]
     },
     "execution_count": 22,
     "metadata": {},
     "output_type": "execute_result"
    }
   ],
   "source": [
    "acc"
   ]
  },
  {
   "cell_type": "code",
   "execution_count": 23,
   "metadata": {},
   "outputs": [
    {
     "name": "stdout",
     "output_type": "stream",
     "text": [
      "정확도 = 97.37%\n"
     ]
    }
   ],
   "source": [
    "print(f\"정확도 = {acc*100:.2f}%\")"
   ]
  },
  {
   "cell_type": "markdown",
   "metadata": {},
   "source": [
    "## 연습문제"
   ]
  },
  {
   "cell_type": "markdown",
   "metadata": {},
   "source": [
    "아래 문제 시나리오에 따라 어떤 머신러닝 분류에 속하는지, 어떤 풀이 알고리즘을 쓸 수 있을지"
   ]
  },
  {
   "cell_type": "markdown",
   "metadata": {},
   "source": [
    "1.\n",
    " * 경기도 안산시 상록구에서 아파트의 속성을 측정하였다.\n",
    "   * 한양대학교와 거리\n",
    "   * 지하철과의 거리\n",
    "   * 초등학교와 거리\n",
    "   * 최고층\n",
    "   * 넓이\n",
    "   * 매매가\n",
    " * 앞서 다섯 가지 속성들로부터 매매가를 예측하고자 한다.\n",
    " * 이 문제는 지도학습? 비지도학습?\n",
    " * 그 중에 어떤 문제?\n",
    " * 어떤 모델을 적용가능?"
   ]
  },
  {
   "cell_type": "markdown",
   "metadata": {},
   "source": [
    "(답)\n",
    "* 지도학습 / 회귀 / 선형회귀분석, 로지스틱리그레션\n",
    "* 지도학습 / (싸다 / 비싸다) -> 분류 / 의사결정나무, 서포트벡터머신"
   ]
  },
  {
   "cell_type": "markdown",
   "metadata": {},
   "source": [
    "2.\n",
    "  * 한양대학교 ERICA 캠퍼스 빅데이터마이닝 연구실에 들어왔다 나가는 사람의 얼굴을 아침, 점심, 저녁으로 총 한 달 간 촬영했다.\n",
    "  * 어떤 사진이 누구인지는 모르지만, 동일한 사람이 찍힌 사진을 서로 묶어서 사진첩에 보관하려고 한다.\n",
    "  * 이 문제는 지도학습? 비지도학습?\n",
    "  * 그 중에 어떤 문제?\n",
    "  * 어떤 모델을 적용가능?"
   ]
  },
  {
   "cell_type": "markdown",
   "metadata": {},
   "source": [
    "(답)\n",
    "* 비지도학습 / 군집화 / k평균, EM 알고리즘"
   ]
  },
  {
   "cell_type": "code",
   "execution_count": null,
   "metadata": {},
   "outputs": [],
   "source": []
  }
 ],
 "metadata": {
  "kernelspec": {
   "display_name": "Python 3",
   "language": "python",
   "name": "python3"
  },
  "language_info": {
   "codemirror_mode": {
    "name": "ipython",
    "version": 3
   },
   "file_extension": ".py",
   "mimetype": "text/x-python",
   "name": "python",
   "nbconvert_exporter": "python",
   "pygments_lexer": "ipython3",
   "version": "3.7.6"
  }
 },
 "nbformat": 4,
 "nbformat_minor": 4
}
