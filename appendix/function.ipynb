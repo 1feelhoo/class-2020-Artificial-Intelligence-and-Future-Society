{
 "cells": [
  {
   "cell_type": "markdown",
   "metadata": {},
   "source": [
    "* 함수의 매개변수는 값을 전달하는 통로 역할만 함"
   ]
  },
  {
   "cell_type": "code",
   "execution_count": 1,
   "metadata": {},
   "outputs": [
    {
     "name": "stdout",
     "output_type": "stream",
     "text": [
      "[1]\n",
      "[1, 2]\n",
      "[1, 2, 3]\n"
     ]
    }
   ],
   "source": [
    "# 매개변수 a는 값 전달 통로\n",
    "def function_a(a, L = list()):\n",
    "    L.append(a) # a에 전달 된 \"값\"을 L이라는 리스트에 넣음\n",
    "    print(L)\n",
    "    \n",
    "# a이라는 통로에 1이 전달 됨\n",
    "function_a(1) # function_a(a = 1) 과 같은 의미\n",
    "function_a(2)\n",
    "function_a(3)"
   ]
  },
  {
   "cell_type": "code",
   "execution_count": 2,
   "metadata": {},
   "outputs": [
    {
     "name": "stdout",
     "output_type": "stream",
     "text": [
      "[1]\n",
      "[1, 2]\n",
      "[1, 2, 3]\n"
     ]
    }
   ],
   "source": [
    "# 매개변수 이름만 바꾸어도 동일한 결과\n",
    "def function_b(b, L = list()):\n",
    "    L.append(b)\n",
    "    print(L)\n",
    "    \n",
    "function_b(1)\n",
    "function_b(2)\n",
    "function_b(3)"
   ]
  }
 ],
 "metadata": {
  "kernelspec": {
   "display_name": "Python 3",
   "language": "python",
   "name": "python3"
  },
  "language_info": {
   "codemirror_mode": {
    "name": "ipython",
    "version": 3
   },
   "file_extension": ".py",
   "mimetype": "text/x-python",
   "name": "python",
   "nbconvert_exporter": "python",
   "pygments_lexer": "ipython3",
   "version": "3.7.7"
  }
 },
 "nbformat": 4,
 "nbformat_minor": 4
}
