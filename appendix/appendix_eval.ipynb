{
 "cells": [
  {
   "cell_type": "markdown",
   "metadata": {},
   "source": [
    "# 보충 설명"
   ]
  },
  {
   "cell_type": "markdown",
   "metadata": {},
   "source": [
    "## eval(expression\\[, globals\\[, locals\\]\\]) 함수\n",
    "* expression 인자로 실행 가능한 문자열을 입력 받아 그 결과를 리턴함\n",
    "* globals와 locals 파라미터에 값을 넘겨주어 코드 내의 아무 함수에 쉽게 접근할 수 없도록 제한할 수 있음\n",
    "(안전하게 사용할 수 있는 코드 예제 설명은 생략합니다. 궁금한 분은 <u>***[링크](https://www.programiz.com/python-programming/methods/built-in/eval)***</u>를 참고하세요.)"
   ]
  },
  {
   "cell_type": "code",
   "execution_count": 1,
   "metadata": {},
   "outputs": [
    {
     "name": "stdout",
     "output_type": "stream",
     "text": [
      "2\n",
      "<class 'int'>\n"
     ]
    }
   ],
   "source": [
    "# expression 인자로 실행 가능한 문자열을 입력 받아 그 결과를 리턴함\n",
    "print(eval('2')) # 정수 2를 출력\n",
    "print(type(eval('2'))) # int 형인 것을 볼 수 있음"
   ]
  },
  {
   "cell_type": "code",
   "execution_count": 2,
   "metadata": {},
   "outputs": [
    {
     "name": "stdout",
     "output_type": "stream",
     "text": [
      "1.5\n",
      "<class 'float'>\n"
     ]
    }
   ],
   "source": [
    "print(eval('1.5')) # 실수 1.5를 출력\n",
    "print(type(eval('1.5'))) # float 형"
   ]
  },
  {
   "cell_type": "code",
   "execution_count": 3,
   "metadata": {},
   "outputs": [
    {
     "name": "stdin",
     "output_type": "stream",
     "text": [
      "숫자를 입력하세요. 5.5\n"
     ]
    },
    {
     "name": "stdout",
     "output_type": "stream",
     "text": [
      "5.5\n",
      "<class 'float'>\n"
     ]
    }
   ],
   "source": [
    "# 사용자로부터 값을 입력받아 실행할 수 있음\n",
    "a = input(\"숫자를 입력하세요.\")\n",
    "print(eval(a))\n",
    "print(type(eval(a)))"
   ]
  },
  {
   "cell_type": "code",
   "execution_count": 4,
   "metadata": {},
   "outputs": [
    {
     "name": "stdin",
     "output_type": "stream",
     "text": [
      "문자를 입력하면? asdfsa\n"
     ]
    },
    {
     "ename": "NameError",
     "evalue": "name 'asdfsa' is not defined",
     "output_type": "error",
     "traceback": [
      "\u001b[1;31m---------------------------------------------------------------------------\u001b[0m",
      "\u001b[1;31mNameError\u001b[0m                                 Traceback (most recent call last)",
      "\u001b[1;32m<ipython-input-4-f3827ccb916f>\u001b[0m in \u001b[0;36m<module>\u001b[1;34m\u001b[0m\n\u001b[0;32m      1\u001b[0m \u001b[1;31m# 문자를 입력하면, 이를 변수로 받아들이고, 정의되지 않은 변수면 에러가 발생\u001b[0m\u001b[1;33m\u001b[0m\u001b[1;33m\u001b[0m\u001b[1;33m\u001b[0m\u001b[0m\n\u001b[0;32m      2\u001b[0m \u001b[0ma\u001b[0m \u001b[1;33m=\u001b[0m \u001b[0minput\u001b[0m\u001b[1;33m(\u001b[0m\u001b[1;34m\"문자를 입력하면?\"\u001b[0m\u001b[1;33m)\u001b[0m\u001b[1;33m\u001b[0m\u001b[1;33m\u001b[0m\u001b[0m\n\u001b[1;32m----> 3\u001b[1;33m \u001b[0mprint\u001b[0m\u001b[1;33m(\u001b[0m\u001b[0meval\u001b[0m\u001b[1;33m(\u001b[0m\u001b[0ma\u001b[0m\u001b[1;33m)\u001b[0m\u001b[1;33m)\u001b[0m\u001b[1;33m\u001b[0m\u001b[1;33m\u001b[0m\u001b[0m\n\u001b[0m\u001b[0;32m      4\u001b[0m \u001b[0mprint\u001b[0m\u001b[1;33m(\u001b[0m\u001b[0mtype\u001b[0m\u001b[1;33m(\u001b[0m\u001b[0meval\u001b[0m\u001b[1;33m(\u001b[0m\u001b[0ma\u001b[0m\u001b[1;33m)\u001b[0m\u001b[1;33m)\u001b[0m\u001b[1;33m)\u001b[0m\u001b[1;33m\u001b[0m\u001b[1;33m\u001b[0m\u001b[0m\n",
      "\u001b[1;32m<string>\u001b[0m in \u001b[0;36m<module>\u001b[1;34m\u001b[0m\n",
      "\u001b[1;31mNameError\u001b[0m: name 'asdfsa' is not defined"
     ]
    }
   ],
   "source": [
    "# 문자를 입력하면, 이를 변수로 받아들이고, 정의되지 않은 변수면 에러가 발생\n",
    "a = input(\"문자를 입력하면?\")\n",
    "print(eval(a))\n",
    "print(type(eval(a)))"
   ]
  },
  {
   "cell_type": "code",
   "execution_count": 1,
   "metadata": {},
   "outputs": [
    {
     "name": "stdin",
     "output_type": "stream",
     "text": [
      " print(\"Hello, World!\")\n"
     ]
    },
    {
     "name": "stdout",
     "output_type": "stream",
     "text": [
      "Hello, World!\n"
     ]
    }
   ],
   "source": [
    "# 또는 내장함수를 실행할 수도 있음\n",
    "# a 에 print(\"Hello, World!\") 를 전달\n",
    "a = input()\n",
    "eval(a) # print함수를 따로 안쓰고 그냥 eval만 함"
   ]
  },
  {
   "cell_type": "markdown",
   "metadata": {},
   "source": [
    "## 단점\n",
    "### 시스템 공격에 사용 될 수 있음\n",
    "예를 들어, \n",
    "* 사용자가 알아서는 안될 디렉토리의 정보를 알아낼 수 있음\n",
    "* 시스템을 포맷시킬 수도 있음\n",
    "* 등등\n",
    "\n",
    "### 디버깅이 복잡해짐"
   ]
  },
  {
   "cell_type": "code",
   "execution_count": 5,
   "metadata": {},
   "outputs": [
    {
     "name": "stdin",
     "output_type": "stream",
     "text": [
      " __import__('os').listdir('../data')\n"
     ]
    },
    {
     "data": {
      "text/plain": [
       "['hello.txt', 'truncate.txt']"
      ]
     },
     "execution_count": 5,
     "metadata": {},
     "output_type": "execute_result"
    }
   ],
   "source": [
    "# 예시: __import__('os').listdir('../data') 를 전달\n",
    "cmd = input()\n",
    "eval(cmd)"
   ]
  }
 ],
 "metadata": {
  "kernelspec": {
   "display_name": "Python 3",
   "language": "python",
   "name": "python3"
  },
  "language_info": {
   "codemirror_mode": {
    "name": "ipython",
    "version": 3
   },
   "file_extension": ".py",
   "mimetype": "text/x-python",
   "name": "python",
   "nbconvert_exporter": "python",
   "pygments_lexer": "ipython3",
   "version": "3.8.1"
  }
 },
 "nbformat": 4,
 "nbformat_minor": 4
}
